
import nibabel as nib, numpy as np, pandas as pd

# Upload your .nii.gz via the Binder file‑upload UI,
# then change filename here:
fname = 'YOUR_FILE.nii.gz'

img   = nib.load(fname)
data  = img.get_fdata()
coords = np.array(np.nonzero(data)).T
values = data[data!=0]
ras    = nib.affines.apply_affine(img.affine, coords)

df = pd.DataFrame({
  'i': coords[:,0], 'j': coords[:,1], 'k': coords[:,2],
  'x_mm': ras[:,0],  'y_mm': ras[:,1],  'z_mm': ras[:,2],
  'value': values
})
df.to_csv('activation_voxels.csv', index=False)
print(f"Exported {len(df)} voxels → activation_voxels.csv")
